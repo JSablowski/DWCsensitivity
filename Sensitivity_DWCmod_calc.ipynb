{
 "cells": [
  {
   "cell_type": "code",
   "execution_count": 1,
   "metadata": {},
   "outputs": [],
   "source": [
    "from DWCmod.DWC_models import KimKim2011 as model\n",
    "from SALib.sample import saltelli\n",
    "from SALib.analyze import sobol\n",
    "import numpy as np\n",
    "import pandas as pd"
   ]
  },
  {
   "cell_type": "markdown",
   "metadata": {},
   "source": [
    "## Define functions"
   ]
  },
  {
   "cell_type": "code",
   "execution_count": 2,
   "metadata": {},
   "outputs": [],
   "source": [
    "def res_dict_to_df(d, problem):\n",
    "    \"\"\" Transform result dictionary from SALib to Pandas Dataframe\"\"\"\n",
    "    ind_names = list(d.keys())[:4]\n",
    "    data = list(d.values())[:4]\n",
    "    col_names = problem[\"names\"]\n",
    "    df = pd.DataFrame(data=data, index=ind_names, columns=col_names)\n",
    "    return df\n",
    "\n",
    "def get_q(params):\n",
    "    q = model(**params)[0]\n",
    "    return q\n",
    "\n",
    "def get_modelresults(params):\n",
    "    \"\"\" calculate alpha from model output \"\"\"\n",
    "    if \"deltaT_sub\" in params:\n",
    "        raise BaseException(\"deltaT_sub cannot be varied when calculating alpha\")\n",
    "    q = []\n",
    "    bond = []\n",
    "    deltaT_subs = [1, 10]\n",
    "    for deltaT_sub in deltaT_subs:\n",
    "        q.append(model(deltaT_sub=deltaT_sub, **params)[0])\n",
    "        bond.append(model(deltaT_sub=deltaT_sub, **params)[9][\"Bo\"])\n",
    "    grad = np.gradient(q, deltaT_subs)\n",
    "    alpha = grad.mean()\n",
    "    bond = sum(bond) / len(bond)\n",
    "    return alpha, bond\n",
    "\n",
    "def sensitivity(input_ranges, n_samples=1000):\n",
    "    \"\"\" run the actual sensitivity analysis using sobol/satelli method\"\"\"\n",
    "    # create martrix with input parameters\n",
    "    problem = {\n",
    "        \"num_vars\": len(input_ranges),\n",
    "        \"names\": list(input_ranges.keys()),\n",
    "        \"bounds\": list(input_ranges.values())\n",
    "    }\n",
    "\n",
    "    param_samples = saltelli.sample(problem, n_samples)\n",
    "    print(\"Number of Samples, number of input parameters:\", param_samples.shape)\n",
    "    # calculate results vector\n",
    "    Y = np.zeros([param_samples.shape[0]])\n",
    "    bond = np.zeros([param_samples.shape[0]])\n",
    "    for i, X in enumerate(param_samples):\n",
    "        params = {list(input_ranges.keys())[j] : X[j] for j in range(len(X))}\n",
    "        modelresults = get_modelresults(params)\n",
    "        Y[i] = modelresults[0]\n",
    "        bond[i] = modelresults[1]\n",
    "    # analyse input matrix and results vector\n",
    "    d_results = sobol.analyze(problem, Y)\n",
    "    df = res_dict_to_df(d_results, problem)\n",
    "    df = df.sort_values(\"S1\", axis=1, ascending=False)\n",
    "    return param_samples, Y, df, bond\n",
    "\n",
    "def save_results(scen_name, df, df_samples):\n",
    "    \"\"\" saves results as .pkl and .csv files \"\"\"\n",
    "    df.to_pickle(\"data//pickle//\" + scen_name + \"_indices.pkl\")\n",
    "    df_samples.to_pickle(\"data//pickle//\" + scen_name + \"_samples.pkl\")\n",
    "    df.to_csv(\"data//\" + scen_name + \"_indices.csv\")\n",
    "    df_samples.to_csv(\"data//\" + scen_name + \"_samples.csv\")"
   ]
  },
  {
   "cell_type": "markdown",
   "metadata": {},
   "source": [
    "# Sensitivity analysis\n",
    "## Scenario 1\n",
    "* large input parameter space based on physical plausibility\n",
    "* no coating"
   ]
  },
  {
   "cell_type": "code",
   "execution_count": 3,
   "metadata": {},
   "outputs": [
    {
     "name": "stdout",
     "output_type": "stream",
     "text": [
      "Number of Samples, number of input parameters: (10000, 4)\n"
     ]
    },
    {
     "name": "stderr",
     "output_type": "stream",
     "text": [
      "C:\\Users\\Sablowski\\Documents\\Python Scripts\\TroKo\\DWCmod\\DWC_models.py:129: IntegrationWarning: The algorithm does not converge.  Roundoff error is detected\n",
      "  in the extrapolation table.  It is assumed that the requested tolerance\n",
      "  cannot be achieved, and that the returned result (if full_output = 1) is \n",
      "  the best which can be obtained.\n",
      "  q_N, q_N_interr = integrate.quad(Q_drop_N, r_e, r_upper)\n"
     ]
    }
   ],
   "source": [
    "scenario = {\"p_steam\": [50, 5000],                  # pressure in mbar\n",
    "            \"Theta\": [5, 175],                      # contact angle in deg\n",
    "            \"CAH\": [1, 90],                         # contact angle hysteresis in deg\n",
    "            \"N_s\": [1, 1e6]                         # number of Nucleation sites in 10^9 1/m² \n",
    "               }\n",
    "\n",
    "scen_name = \"s1\"\n",
    "\n",
    "param_samples, alphas, df, bond = sensitivity(scenario)\n",
    "\n",
    "# combine input parameters and results into one dataframe\n",
    "df_samples = pd.DataFrame(data=param_samples, columns=scenario.keys())\n",
    "df_samples[\"alpha\"] = alphas\n",
    "df_samples[\"bond\"] = bond\n",
    "\n",
    "save_results(scen_name, df, df_samples)"
   ]
  },
  {
   "cell_type": "markdown",
   "metadata": {},
   "source": [
    "## Scenario 2\n",
    "* large input parameter space based on physical plausibility\n",
    "* consider coating"
   ]
  },
  {
   "cell_type": "code",
   "execution_count": 4,
   "metadata": {},
   "outputs": [
    {
     "name": "stdout",
     "output_type": "stream",
     "text": [
      "Number of Samples, number of input parameters: (14000, 6)\n"
     ]
    }
   ],
   "source": [
    "scenario = {\"p_steam\": [50, 5000],                  # pressure in mbar\n",
    "            \"Theta\": [5, 175],                      # contact angle in deg\n",
    "            \"CAH\": [1, 90],                         # contact angle hysteresis in deg\n",
    "            \"k_coat\": [0.20, 10],                   # thermal conductivity of the coating in W/(mK)\n",
    "            \"delta_coat\": [0.1e-6, 50e-6],          # thickness of the coating in m\n",
    "            \"N_s\": [1, 1e6]                         # number of Nucleation sites in 10^9 1/m² \n",
    "               }\n",
    "\n",
    "scen_name = \"s2\"\n",
    "\n",
    "param_samples, alphas, df, bond = sensitivity(scenario)\n",
    "\n",
    "# combine input parameters and results into one dataframe\n",
    "df_samples = pd.DataFrame(data=param_samples, columns=scenario.keys())\n",
    "df_samples[\"alpha\"] = alphas\n",
    "df_samples[\"bond\"] = bond\n",
    "\n",
    "save_results(scen_name, df, df_samples)"
   ]
  },
  {
   "cell_type": "markdown",
   "metadata": {},
   "source": [
    "## Scenario 3\n",
    "* narrow input parameter space based on rough estimates of measurement uncertainty\n",
    "* no coating"
   ]
  },
  {
   "cell_type": "code",
   "execution_count": 5,
   "metadata": {},
   "outputs": [
    {
     "name": "stdout",
     "output_type": "stream",
     "text": [
      "Number of Samples, number of input parameters: (10000, 4)\n"
     ]
    }
   ],
   "source": [
    "scenario = {\"p_steam\": [110, 130],                  # pressure in mbar\n",
    "            \"Theta\": [83, 93],                      # contact angle in deg\n",
    "            \"CAH\": [24, 44],                        # contact angle hysteresis in deg\n",
    "            \"N_s\": [1 , 1e6]                        # number of Nucleation sites in 10^9 1/m² \n",
    "               }\n",
    "\n",
    "scen_name = \"s3\"\n",
    "\n",
    "param_samples, alphas, df, bond = sensitivity(scenario)\n",
    "\n",
    "# combine input parameters and results into one dataframe\n",
    "df_samples = pd.DataFrame(data=param_samples, columns=scenario.keys())\n",
    "df_samples[\"alpha\"] = alphas\n",
    "df_samples[\"bond\"] = bond\n",
    "\n",
    "save_results(scen_name, df, df_samples)"
   ]
  },
  {
   "cell_type": "markdown",
   "metadata": {},
   "source": [
    "## Scenario 4\n",
    "* narrow input parameter space based on rough estimates of measurement uncertainty\n",
    "* consider good coating (thin, high thermal conductivity)"
   ]
  },
  {
   "cell_type": "code",
   "execution_count": 6,
   "metadata": {},
   "outputs": [
    {
     "name": "stdout",
     "output_type": "stream",
     "text": [
      "Number of Samples, number of input parameters: (14000, 6)\n"
     ]
    }
   ],
   "source": [
    "scenario = {\"p_steam\": [110, 130],                  # pressure in mbar\n",
    "            \"Theta\": [83, 93],                      # contact angle in deg\n",
    "            \"CAH\": [24, 44],                        # contact angle hysteresis in deg\n",
    "            \"k_coat\": [5, 10],                      # thermal conductivity of the coating in W/(mK)\n",
    "            \"delta_coat\": [0.1e-6, 1e-6],           # thickness of the coating in m\n",
    "            \"N_s\": [1, 1e6]                         # number of Nucleation sites in 10^9 1/m² \n",
    "               }\n",
    "\n",
    "scen_name = \"s4\"\n",
    "\n",
    "param_samples, alphas, df, bond = sensitivity(scenario)\n",
    "\n",
    "# combine input parameters and results into one dataframe\n",
    "df_samples = pd.DataFrame(data=param_samples, columns=scenario.keys())\n",
    "df_samples[\"alpha\"] = alphas\n",
    "df_samples[\"bond\"] = bond\n",
    "\n",
    "save_results(scen_name, df, df_samples)"
   ]
  }
 ],
 "metadata": {
  "kernelspec": {
   "display_name": "Python 3",
   "language": "python",
   "name": "python3"
  },
  "language_info": {
   "codemirror_mode": {
    "name": "ipython",
    "version": 3
   },
   "file_extension": ".py",
   "mimetype": "text/x-python",
   "name": "python",
   "nbconvert_exporter": "python",
   "pygments_lexer": "ipython3",
   "version": "3.7.6"
  }
 },
 "nbformat": 4,
 "nbformat_minor": 4
}
