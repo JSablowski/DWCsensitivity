{
 "cells": [
  {
   "cell_type": "code",
   "execution_count": 4,
   "metadata": {},
   "outputs": [],
   "source": [
    "# import libraries\n",
    "import pandas as pd\n",
    "import matplotlib.pyplot as plt\n",
    "import seaborn as sns\n",
    "\n",
    "# set plotting style\n",
    "plt.rcParams.update({'errorbar.capsize': 3})\n",
    "sns.set(style=\"ticks\", rc={\"figure.figsize\":(6.4, 4)})  # for 2 column figures \n",
    "sns.set_context(context=\"paper\")\n",
    "dpi = 1000\n",
    "\n",
    "# define functions\n",
    "def read_pickle(scen_name):\n",
    "    df = pd.read_pickle(\"data//pickle//\" + scen_name + \"_indices.pkl\")\n",
    "    df_samples = pd.read_pickle(\"data//pickle//\" + scen_name + \"_samples.pkl\")\n",
    "    # unit conversion\n",
    "    df_samples[\"alpha\"] = df_samples[\"alpha\"] / 1000                      # in kW/m²/K\n",
    "    df_samples[\"N_s\"] = df_samples[\"N_s\"] * 10**9                         # in 1/m²\n",
    "    df_samples[\"p_steam\"] = df_samples[\"p_steam\"] / 10                    # mbar to kPa    \n",
    "    if \"delta_coat\" in df_samples.columns:\n",
    "        df_samples[\"delta_coat\"] = df_samples[\"delta_coat\"] * 10**6       # in my m\n",
    "    return df, df_samples\n",
    "\n",
    "def rename_categories(xticks):\n",
    "    locs, labels = xticks()\n",
    "    for label in labels:\n",
    "        old_text = label.get_text()\n",
    "        if old_text == \"Theta\":\n",
    "            new_text = r\"$\\theta$\"\n",
    "        elif old_text == \"alpha\":\n",
    "            new_text = r\"$\\alpha$\"\n",
    "        elif old_text == \"CAH\":\n",
    "            new_text = r\"$\\Delta \\theta$\"\n",
    "        elif old_text == \"p_steam\":\n",
    "            new_text = r\"$p$\" \n",
    "        elif old_text == \"N_s\":\n",
    "            new_text = r\"$N_{\\rm{s}}$\"\n",
    "        elif old_text == \"delta_coat\":\n",
    "            new_text = r\"$\\delta_{\\rm{c}}$\"\n",
    "        elif old_text == \"k_coat\":\n",
    "            new_text = r\"$\\lambda_{\\rm{c}}$\" \n",
    "        else:\n",
    "            new_text = old_text    \n",
    "        label.set_text(new_text)\n",
    "    plt.xticks(locs, labels)"
   ]
  },
  {
   "cell_type": "markdown",
   "metadata": {},
   "source": [
    "# Results"
   ]
  },
  {
   "cell_type": "markdown",
   "metadata": {},
   "source": [
    "## Figure 1 - Total effects indices"
   ]
  },
  {
   "cell_type": "code",
   "execution_count": 5,
   "metadata": {},
   "outputs": [
    {
     "data": {
      "image/png": "[encoded data removed]",
      "text/plain": [
       "<Figure size 460.8x288 with 5 Axes>"
      ]
     },
     "metadata": {},
     "output_type": "display_data"
    }
   ],
   "source": [
    "df_list = []\n",
    "scen_names = [\"s1\", \"s2\", \"s3\", \"s4\"]\n",
    "for scen in scen_names:\n",
    "    df, _ = read_pickle(scen)\n",
    "    df_list.append(df)\n",
    "\n",
    "cols_nocoat = ['Theta', 'p_steam', 'N_s', \"CAH\"]\n",
    "cols_coat = cols_nocoat + ['delta_coat', 'k_coat']    \n",
    "    \n",
    "fig, axs = plt.subplots(2, 2, sharey=True, sharex=True)\n",
    "row = 0\n",
    "col = 0\n",
    "for df in df_list:\n",
    "    if col == 0:\n",
    "        df = df[cols_nocoat]\n",
    "    else:\n",
    "        df = df[cols_coat]\n",
    "    sns.barplot(y=df.loc[\"ST\", :], x=df.columns, yerr=df.loc[\"ST_conf\", :], ax=axs[row, col], dodge=False)\n",
    "    col += 1\n",
    "    if col > 1:\n",
    "        row = 1\n",
    "        col = 0 \n",
    "\n",
    "axs[0, 0].set_title(\"Scenario 1\")\n",
    "axs[0, 1].set_title(\"Scenario 2\")\n",
    "axs[1, 0].set_title(\"Scenario 3\")\n",
    "axs[1, 1].set_title(\"Scenario 4\") \n",
    "\n",
    "for row in axs:\n",
    "    for ax in row:\n",
    "        plt.sca(ax)\n",
    "        ax.yaxis.get_label().set_visible(False)\n",
    "        plt.ylim(bottom=0)\n",
    "        rename_categories(plt.xticks)\n",
    "        ax.title.set_position([.156, 0.83])\n",
    "        \n",
    "# common title for y-axis\n",
    "fig.add_subplot(111, frameon=False)\n",
    "plt.tick_params(labelcolor='none', top=False, bottom=False, left=False, right=False)\n",
    "plt.ylabel(\"total effect sensitivity index \" + r\"$S_{\\rm{T}}$\", labelpad=10)\n",
    "\n",
    "plt.tight_layout()\n",
    "plt.savefig(\"sensi_fig1_sobol_ST_overview.pdf\", dpi=dpi, bbox_inches=\"tight\")\n",
    "plt.savefig(\"sensi_fig1_sobol_ST_overview.jpg\", dpi=dpi, bbox_inches=\"tight\")\n",
    "plt.savefig(\"sensi_fig1_sobol_ST_overview.tif\", dpi=dpi, bbox_inches=\"tight\")\n",
    "plt.savefig(\"sensi_fig1_sobol_ST_overview.png\", dpi=dpi, bbox_inches=\"tight\")"
   ]
  },
  {
   "cell_type": "markdown",
   "metadata": {},
   "source": [
    "## Scenario 1\n",
    "* large input parameter space based on physical plausibility\n",
    "* no coating"
   ]
  },
  {
   "cell_type": "code",
   "execution_count": 6,
   "metadata": {},
   "outputs": [
    {
     "name": "stdout",
     "output_type": "stream",
     "text": [
      "\n",
      "sensitivity indices:\n",
      "            Theta   p_steam       N_s       CAH\n",
      "S1       0.605458  0.129317  0.084517  0.081245\n",
      "S1_conf  0.063841  0.032022  0.031573  0.032837\n",
      "ST       0.696475  0.177399  0.128058  0.099169\n",
      "ST_conf  0.067038  0.028548  0.022166  0.014042\n",
      "\n",
      "contact angle range for high heat transfer coefficients > 1300 kW/m²/K:\n",
      "\tMinimum contact angle:\t71°\n",
      "\tMean contact angle:\t132°\n",
      "\tMaximum contact angle:\t102°\n",
      "\n",
      "contact angle hysteresis for high heat transfer coefficients > 1300 kW/m²/K:\n",
      "\tMaximum contact angle hysteresis: 9°\n"
     ]
    }
   ],
   "source": [
    "scen_name = \"s1\"\n",
    "df, df_samples = read_pickle(scen_name)\n",
    "\n",
    "print(\"\\nsensitivity indices:\")\n",
    "print(df)\n",
    "\n",
    "alpha_min = 1300    # set minimum alpha limit for high heat transfer in kW/m²/K\n",
    "print(\"\\ncontact angle range for high heat transfer coefficients > \" + str(alpha_min) + \" kW/m²/K:\")\n",
    "df_temp = df_samples[df_samples[\"alpha\"] > alpha_min]\n",
    "print(\"\\tMinimum contact angle:\\t\" + str(round(df_temp.Theta.min()))+\"°\")\n",
    "print(\"\\tMean contact angle:\\t\" + str(round(df_temp.Theta.max()))+\"°\")\n",
    "print(\"\\tMaximum contact angle:\\t\" + str(round(df_temp.Theta.mean()))+\"°\")\n",
    "\n",
    "print(\"\\ncontact angle hysteresis for high heat transfer coefficients > \" + str(alpha_min) + \" kW/m²/K:\")\n",
    "print(\"\\tMaximum contact angle hysteresis: \" + str(round(df_temp.CAH.max()))+\"°\")"
   ]
  },
  {
   "cell_type": "markdown",
   "metadata": {},
   "source": [
    "## Scenario 2\n",
    "* large input parameter space based on physical plausibility\n",
    "* consider coating"
   ]
  },
  {
   "cell_type": "code",
   "execution_count": 7,
   "metadata": {},
   "outputs": [
    {
     "name": "stdout",
     "output_type": "stream",
     "text": [
      "\n",
      "sensitivity:\n",
      "         delta_coat     Theta    k_coat       CAH       N_s   p_steam\n",
      "S1         0.510346  0.118435  0.059818  0.002592  0.000602 -0.002997\n",
      "S1_conf    0.259676  0.059126  0.032743  0.017128  0.002777  0.003284\n",
      "ST         0.722464  0.280946  0.120753  0.026106  0.001783  0.006343\n",
      "ST_conf    0.222702  0.151874  0.054575  0.012010  0.000982  0.006573\n",
      "\n",
      "contact angle range for high heat transfer coefficients > 500 kW/m²/K:\n",
      "\tMinimum contact angle:\t69°\n",
      "\tMean contact angle:\t106°\n",
      "\tMaximum contact angle:\t88°\n",
      "\n",
      "contact angle hysteresis for high heat transfer coefficients > 500 kW/m²/K:\n",
      "\tMaximum contact angle hysteresis: 89°\n",
      "\n",
      "coating parameters for high heat transfer coefficients > 500 kW/m²/K:\n",
      "\tMaximum coating thickness:\t\t0.22 microns\n",
      "\tMinimum coating thermal conductivity:\t4 W/m/K\n"
     ]
    }
   ],
   "source": [
    "scen_name = \"s2\"\n",
    "df, df_samples = read_pickle(scen_name)\n",
    "print(\"\\nsensitivity:\")\n",
    "print(df)\n",
    "\n",
    "alpha_min = 500    # set minimum alpha limit for high heat transfer in kW/m²/K\n",
    "print(\"\\ncontact angle range for high heat transfer coefficients > \" + str(alpha_min) + \" kW/m²/K:\")\n",
    "df_temp = df_samples[df_samples[\"alpha\"] > alpha_min]\n",
    "print(\"\\tMinimum contact angle:\\t\" + str(round(df_temp.Theta.min()))+\"°\")\n",
    "print(\"\\tMean contact angle:\\t\" + str(round(df_temp.Theta.max()))+\"°\")\n",
    "print(\"\\tMaximum contact angle:\\t\" + str(round(df_temp.Theta.mean()))+\"°\")\n",
    "\n",
    "print(\"\\ncontact angle hysteresis for high heat transfer coefficients > \" + str(alpha_min) + \" kW/m²/K:\")\n",
    "print(\"\\tMaximum contact angle hysteresis: \" + str(round(df_temp.CAH.max()))+\"°\")\n",
    "\n",
    "print(\"\\ncoating parameters for high heat transfer coefficients > \" + str(alpha_min) + \" kW/m²/K:\")\n",
    "print(\"\\tMaximum coating thickness:\\t\\t\" + str(round(df_temp.delta_coat.max(), 2)) + \" microns\")\n",
    "print(\"\\tMinimum coating thermal conductivity:\\t\" + str(round(df_temp.k_coat.min())) + \" W/m/K\")"
   ]
  },
  {
   "cell_type": "markdown",
   "metadata": {},
   "source": [
    "## Scenario 3\n",
    "* narrow input parameter space based on rough estimates of measurement uncertainty\n",
    "* no coating"
   ]
  },
  {
   "cell_type": "code",
   "execution_count": 8,
   "metadata": {},
   "outputs": [
    {
     "name": "stdout",
     "output_type": "stream",
     "text": [
      "\n",
      "sensitivity:\n",
      "              N_s       CAH     Theta   p_steam\n",
      "S1       0.700274  0.109884  0.093022  0.070297\n",
      "S1_conf  0.113482  0.032139  0.028727  0.025959\n",
      "ST       0.721655  0.109485  0.101261  0.068258\n",
      "ST_conf  0.062273  0.016094  0.014314  0.009514\n"
     ]
    }
   ],
   "source": [
    "scen_name = \"s3\"\n",
    "df, df_samples = read_pickle(scen_name)\n",
    "\n",
    "print(\"\\nsensitivity:\")\n",
    "print(df)"
   ]
  },
  {
   "cell_type": "markdown",
   "metadata": {},
   "source": [
    "## Scenario 4\n",
    "* narrow input parameter space based on rough estimates of measurement uncertainty\n",
    "* consider good coating (thin, high thermal conductivity)"
   ]
  },
  {
   "cell_type": "code",
   "execution_count": 9,
   "metadata": {},
   "outputs": [
    {
     "name": "stdout",
     "output_type": "stream",
     "text": [
      "\n",
      "sensitivity:\n",
      "         delta_coat       N_s    k_coat       CAH     Theta   p_steam\n",
      "S1         0.488679  0.338631  0.075526  0.059578  0.034529  0.024145\n",
      "S1_conf    0.064746  0.081282  0.025288  0.023439  0.016775  0.013378\n",
      "ST         0.498036  0.347059  0.080300  0.059726  0.033988  0.022122\n",
      "ST_conf    0.049942  0.060668  0.010110  0.006319  0.003870  0.002395\n",
      "\n",
      "contact angle range for high heat transfer coefficients > 275 kW/m²/K:\n",
      "\tMinimum contact angle:\t86°\n",
      "\tMean contact angle:\t93°\n",
      "\tMaximum contact angle:\t91°\n",
      "\n",
      "contact angle hysteresis for high heat transfer coefficients > 275 kW/m²/K:\n",
      "\tMaximum contact angle hysteresis: 35°\n",
      "\n",
      "coating parameters for high heat transfer coefficients > 275 kW/m²/K:\n",
      "\tMaximum coating thickness:\t\t0.24 microns\n",
      "\tMinimum coating thermal conductivity:\t5 W/m/K\n"
     ]
    }
   ],
   "source": [
    "scen_name = \"s4\"\n",
    "df, df_samples = read_pickle(scen_name)\n",
    "\n",
    "print(\"\\nsensitivity:\")\n",
    "print(df)\n",
    "\n",
    "alpha_min = 275    # set minimum alpha limit for high heat transfer in kW/m²/K\n",
    "print(\"\\ncontact angle range for high heat transfer coefficients > \" + str(alpha_min) + \" kW/m²/K:\")\n",
    "df_temp = df_samples[df_samples[\"alpha\"] > alpha_min]\n",
    "print(\"\\tMinimum contact angle:\\t\" + str(round(df_temp.Theta.min()))+\"°\")\n",
    "print(\"\\tMean contact angle:\\t\" + str(round(df_temp.Theta.max()))+\"°\")\n",
    "print(\"\\tMaximum contact angle:\\t\" + str(round(df_temp.Theta.mean()))+\"°\")\n",
    "\n",
    "print(\"\\ncontact angle hysteresis for high heat transfer coefficients > \" + str(alpha_min) + \" kW/m²/K:\")\n",
    "print(\"\\tMaximum contact angle hysteresis: \" + str(round(df_temp.CAH.max()))+\"°\")\n",
    "\n",
    "print(\"\\ncoating parameters for high heat transfer coefficients > \" + str(alpha_min) + \" kW/m²/K:\")\n",
    "print(\"\\tMaximum coating thickness:\\t\\t\" + str(round(df_temp.delta_coat.max(), 2)) + \" microns\")\n",
    "print(\"\\tMinimum coating thermal conductivity:\\t\" + str(round(df_temp.k_coat.min())) + \" W/m/K\")"
   ]
  },
  {
   "cell_type": "code",
   "execution_count": null,
   "metadata": {},
   "outputs": [],
   "source": []
  }
 ],
 "metadata": {
  "kernelspec": {
   "display_name": "Python 3",
   "language": "python",
   "name": "python3"
  },
  "language_info": {
   "codemirror_mode": {
    "name": "ipython",
    "version": 3
   },
   "file_extension": ".py",
   "mimetype": "text/x-python",
   "name": "python",
   "nbconvert_exporter": "python",
   "pygments_lexer": "ipython3",
   "version": "3.7.6"
  }
 },
 "nbformat": 4,
 "nbformat_minor": 4
}
